{
  "nbformat": 4,
  "nbformat_minor": 0,
  "metadata": {
    "colab": {
      "provenance": [],
      "gpuType": "T4"
    },
    "kernelspec": {
      "name": "python3",
      "display_name": "Python 3"
    },
    "language_info": {
      "name": "python"
    },
    "accelerator": "GPU"
  },
  "cells": [
    {
      "cell_type": "markdown",
      "source": [
        "# 복습_lstm"
      ],
      "metadata": {
        "id": "xtMS59KYUfEj"
      }
    },
    {
      "cell_type": "code",
      "source": [
        "!pip install -q yfinance"
      ],
      "metadata": {
        "id": "rwd6V24sUhgk"
      },
      "execution_count": 1,
      "outputs": []
    },
    {
      "cell_type": "code",
      "source": [
        "import pandas as pd\n",
        "import numpy as np\n",
        "import matplotlib.pyplot as plt\n",
        "import seaborn as sns\n",
        "sns.set_style('whitegrid')\n",
        "plt.style.use(\"fivethirtyeight\")\n",
        "%matplotlib inline"
      ],
      "metadata": {
        "id": "qWs37C2GUheX"
      },
      "execution_count": 2,
      "outputs": []
    },
    {
      "cell_type": "code",
      "source": [
        "import yfinance as yf\n",
        "#DataReader라는 함수는 웹 상의 데이터를 DataFrame 객체로 만드는 기능\n",
        "from pandas_datareader.data import DataReader\n",
        "from pandas_datareader import data as pdr"
      ],
      "metadata": {
        "id": "2hmzkI7aUhcW"
      },
      "execution_count": 3,
      "outputs": []
    },
    {
      "cell_type": "code",
      "source": [
        "from datetime import datetime"
      ],
      "metadata": {
        "id": "kDkqzpGbXB7J"
      },
      "execution_count": 4,
      "outputs": []
    },
    {
      "cell_type": "code",
      "source": [
        "end = datetime.now()"
      ],
      "metadata": {
        "id": "uZ3PVuE9XDEM"
      },
      "execution_count": 5,
      "outputs": []
    },
    {
      "cell_type": "code",
      "source": [
        "!pip install fix_yahoo_finance"
      ],
      "metadata": {
        "colab": {
          "base_uri": "https://localhost:8080/"
        },
        "id": "Cvbb0G-XXU-6",
        "outputId": "152a9781-3ddb-4343-fbd8-f726ba5d6887"
      },
      "execution_count": 6,
      "outputs": [
        {
          "output_type": "stream",
          "name": "stdout",
          "text": [
            "Collecting fix_yahoo_finance\n",
            "  Downloading fix-yahoo-finance-0.1.37.tar.gz (6.3 kB)\n",
            "  Preparing metadata (setup.py) ... \u001b[?25l\u001b[?25hdone\n",
            "Requirement already satisfied: yfinance in /usr/local/lib/python3.10/dist-packages (from fix_yahoo_finance) (0.2.31)\n",
            "Requirement already satisfied: pandas>=1.3.0 in /usr/local/lib/python3.10/dist-packages (from yfinance->fix_yahoo_finance) (1.5.3)\n",
            "Requirement already satisfied: numpy>=1.16.5 in /usr/local/lib/python3.10/dist-packages (from yfinance->fix_yahoo_finance) (1.23.5)\n",
            "Requirement already satisfied: requests>=2.31 in /usr/local/lib/python3.10/dist-packages (from yfinance->fix_yahoo_finance) (2.31.0)\n",
            "Requirement already satisfied: multitasking>=0.0.7 in /usr/local/lib/python3.10/dist-packages (from yfinance->fix_yahoo_finance) (0.0.11)\n",
            "Requirement already satisfied: lxml>=4.9.1 in /usr/local/lib/python3.10/dist-packages (from yfinance->fix_yahoo_finance) (4.9.3)\n",
            "Requirement already satisfied: appdirs>=1.4.4 in /usr/local/lib/python3.10/dist-packages (from yfinance->fix_yahoo_finance) (1.4.4)\n",
            "Requirement already satisfied: pytz>=2022.5 in /usr/local/lib/python3.10/dist-packages (from yfinance->fix_yahoo_finance) (2023.3.post1)\n",
            "Requirement already satisfied: frozendict>=2.3.4 in /usr/local/lib/python3.10/dist-packages (from yfinance->fix_yahoo_finance) (2.3.8)\n",
            "Requirement already satisfied: peewee>=3.16.2 in /usr/local/lib/python3.10/dist-packages (from yfinance->fix_yahoo_finance) (3.17.0)\n",
            "Requirement already satisfied: beautifulsoup4>=4.11.1 in /usr/local/lib/python3.10/dist-packages (from yfinance->fix_yahoo_finance) (4.11.2)\n",
            "Requirement already satisfied: html5lib>=1.1 in /usr/local/lib/python3.10/dist-packages (from yfinance->fix_yahoo_finance) (1.1)\n",
            "Requirement already satisfied: soupsieve>1.2 in /usr/local/lib/python3.10/dist-packages (from beautifulsoup4>=4.11.1->yfinance->fix_yahoo_finance) (2.5)\n",
            "Requirement already satisfied: six>=1.9 in /usr/local/lib/python3.10/dist-packages (from html5lib>=1.1->yfinance->fix_yahoo_finance) (1.16.0)\n",
            "Requirement already satisfied: webencodings in /usr/local/lib/python3.10/dist-packages (from html5lib>=1.1->yfinance->fix_yahoo_finance) (0.5.1)\n",
            "Requirement already satisfied: python-dateutil>=2.8.1 in /usr/local/lib/python3.10/dist-packages (from pandas>=1.3.0->yfinance->fix_yahoo_finance) (2.8.2)\n",
            "Requirement already satisfied: charset-normalizer<4,>=2 in /usr/local/lib/python3.10/dist-packages (from requests>=2.31->yfinance->fix_yahoo_finance) (3.3.2)\n",
            "Requirement already satisfied: idna<4,>=2.5 in /usr/local/lib/python3.10/dist-packages (from requests>=2.31->yfinance->fix_yahoo_finance) (3.4)\n",
            "Requirement already satisfied: urllib3<3,>=1.21.1 in /usr/local/lib/python3.10/dist-packages (from requests>=2.31->yfinance->fix_yahoo_finance) (2.0.7)\n",
            "Requirement already satisfied: certifi>=2017.4.17 in /usr/local/lib/python3.10/dist-packages (from requests>=2.31->yfinance->fix_yahoo_finance) (2023.7.22)\n",
            "Building wheels for collected packages: fix_yahoo_finance\n",
            "  Building wheel for fix_yahoo_finance (setup.py) ... \u001b[?25l\u001b[?25hdone\n",
            "  Created wheel for fix_yahoo_finance: filename=fix_yahoo_finance-0.1.37-py3-none-any.whl size=7072 sha256=a8ce6c41e0a6d983020372692a17d1e4c26557ee8d07aba5c2fcd359e6b224b4\n",
            "  Stored in directory: /root/.cache/pip/wheels/1e/5e/ca/d9dbe97f5c895289286a5f99311e9e9633c9898f35d42802ca\n",
            "Successfully built fix_yahoo_finance\n",
            "Installing collected packages: fix_yahoo_finance\n",
            "Successfully installed fix_yahoo_finance-0.1.37\n"
          ]
        }
      ]
    },
    {
      "cell_type": "code",
      "source": [
        "import yfinance as yf\n",
        "\n",
        "df = yf.download('086520.KQ', start='2000-01-01', end='2023-11-29')\n",
        "print(df.head())\n"
      ],
      "metadata": {
        "colab": {
          "base_uri": "https://localhost:8080/"
        },
        "id": "9WwrL0pVUhV9",
        "outputId": "6adc8076-58f6-4440-ef7a-a0c0d17ae81e"
      },
      "execution_count": 79,
      "outputs": [
        {
          "output_type": "stream",
          "name": "stdout",
          "text": [
            "\r[*********************100%%**********************]  1 of 1 completed\n",
            "                    Open          High           Low         Close  \\\n",
            "Date                                                                 \n",
            "2007-07-20  17985.572266  20683.408203  16299.425781  20683.408203   \n",
            "2007-07-23  21807.507812  23774.679688  21638.892578  23774.679688   \n",
            "2007-07-24  27315.587891  27315.587891  23774.679688  24730.162109   \n",
            "2007-07-25  24168.113281  25854.261719  22369.556641  23718.474609   \n",
            "2007-07-26  24954.982422  27259.382812  24336.728516  26416.310547   \n",
            "\n",
            "               Adj Close   Volume  \n",
            "Date                               \n",
            "2007-07-20  20289.449219  1286559  \n",
            "2007-07-23  23321.841797   291798  \n",
            "2007-07-24  24259.125000   942625  \n",
            "2007-07-25  23266.707031   503651  \n",
            "2007-07-26  25913.156250   759790  \n"
          ]
        }
      ]
    },
    {
      "cell_type": "code",
      "source": [
        "df"
      ],
      "metadata": {
        "colab": {
          "base_uri": "https://localhost:8080/",
          "height": 455
        },
        "id": "7DR13gUVUhTz",
        "outputId": "68dbc17e-a157-428d-d8aa-a46323b23c8a"
      },
      "execution_count": 80,
      "outputs": [
        {
          "output_type": "execute_result",
          "data": {
            "text/plain": [
              "                     Open           High            Low          Close  \\\n",
              "Date                                                                     \n",
              "2007-07-20   17985.572266   20683.408203   16299.425781   20683.408203   \n",
              "2007-07-23   21807.507812   23774.679688   21638.892578   23774.679688   \n",
              "2007-07-24   27315.587891   27315.587891   23774.679688   24730.162109   \n",
              "2007-07-25   24168.113281   25854.261719   22369.556641   23718.474609   \n",
              "2007-07-26   24954.982422   27259.382812   24336.728516   26416.310547   \n",
              "...                   ...            ...            ...            ...   \n",
              "2023-11-22  712000.000000  722000.000000  693000.000000  700000.000000   \n",
              "2023-11-23  700000.000000  708000.000000  691000.000000  703000.000000   \n",
              "2023-11-24  705000.000000  710000.000000  693000.000000  695000.000000   \n",
              "2023-11-27  707000.000000  707000.000000  679000.000000  692000.000000   \n",
              "2023-11-28  693000.000000  737000.000000  692000.000000  711000.000000   \n",
              "\n",
              "                Adj Close   Volume  \n",
              "Date                                \n",
              "2007-07-20   20289.449219  1286559  \n",
              "2007-07-23   23321.841797   291798  \n",
              "2007-07-24   24259.125000   942625  \n",
              "2007-07-25   23266.707031   503651  \n",
              "2007-07-26   25913.156250   759790  \n",
              "...                   ...      ...  \n",
              "2023-11-22  700000.000000   327735  \n",
              "2023-11-23  703000.000000   170376  \n",
              "2023-11-24  695000.000000   175694  \n",
              "2023-11-27  692000.000000   247894  \n",
              "2023-11-28  711000.000000   451008  \n",
              "\n",
              "[4018 rows x 6 columns]"
            ],
            "text/html": [
              "\n",
              "  <div id=\"df-d57e0f57-2ebb-4e99-8960-d154d84c2927\" class=\"colab-df-container\">\n",
              "    <div>\n",
              "<style scoped>\n",
              "    .dataframe tbody tr th:only-of-type {\n",
              "        vertical-align: middle;\n",
              "    }\n",
              "\n",
              "    .dataframe tbody tr th {\n",
              "        vertical-align: top;\n",
              "    }\n",
              "\n",
              "    .dataframe thead th {\n",
              "        text-align: right;\n",
              "    }\n",
              "</style>\n",
              "<table border=\"1\" class=\"dataframe\">\n",
              "  <thead>\n",
              "    <tr style=\"text-align: right;\">\n",
              "      <th></th>\n",
              "      <th>Open</th>\n",
              "      <th>High</th>\n",
              "      <th>Low</th>\n",
              "      <th>Close</th>\n",
              "      <th>Adj Close</th>\n",
              "      <th>Volume</th>\n",
              "    </tr>\n",
              "    <tr>\n",
              "      <th>Date</th>\n",
              "      <th></th>\n",
              "      <th></th>\n",
              "      <th></th>\n",
              "      <th></th>\n",
              "      <th></th>\n",
              "      <th></th>\n",
              "    </tr>\n",
              "  </thead>\n",
              "  <tbody>\n",
              "    <tr>\n",
              "      <th>2007-07-20</th>\n",
              "      <td>17985.572266</td>\n",
              "      <td>20683.408203</td>\n",
              "      <td>16299.425781</td>\n",
              "      <td>20683.408203</td>\n",
              "      <td>20289.449219</td>\n",
              "      <td>1286559</td>\n",
              "    </tr>\n",
              "    <tr>\n",
              "      <th>2007-07-23</th>\n",
              "      <td>21807.507812</td>\n",
              "      <td>23774.679688</td>\n",
              "      <td>21638.892578</td>\n",
              "      <td>23774.679688</td>\n",
              "      <td>23321.841797</td>\n",
              "      <td>291798</td>\n",
              "    </tr>\n",
              "    <tr>\n",
              "      <th>2007-07-24</th>\n",
              "      <td>27315.587891</td>\n",
              "      <td>27315.587891</td>\n",
              "      <td>23774.679688</td>\n",
              "      <td>24730.162109</td>\n",
              "      <td>24259.125000</td>\n",
              "      <td>942625</td>\n",
              "    </tr>\n",
              "    <tr>\n",
              "      <th>2007-07-25</th>\n",
              "      <td>24168.113281</td>\n",
              "      <td>25854.261719</td>\n",
              "      <td>22369.556641</td>\n",
              "      <td>23718.474609</td>\n",
              "      <td>23266.707031</td>\n",
              "      <td>503651</td>\n",
              "    </tr>\n",
              "    <tr>\n",
              "      <th>2007-07-26</th>\n",
              "      <td>24954.982422</td>\n",
              "      <td>27259.382812</td>\n",
              "      <td>24336.728516</td>\n",
              "      <td>26416.310547</td>\n",
              "      <td>25913.156250</td>\n",
              "      <td>759790</td>\n",
              "    </tr>\n",
              "    <tr>\n",
              "      <th>...</th>\n",
              "      <td>...</td>\n",
              "      <td>...</td>\n",
              "      <td>...</td>\n",
              "      <td>...</td>\n",
              "      <td>...</td>\n",
              "      <td>...</td>\n",
              "    </tr>\n",
              "    <tr>\n",
              "      <th>2023-11-22</th>\n",
              "      <td>712000.000000</td>\n",
              "      <td>722000.000000</td>\n",
              "      <td>693000.000000</td>\n",
              "      <td>700000.000000</td>\n",
              "      <td>700000.000000</td>\n",
              "      <td>327735</td>\n",
              "    </tr>\n",
              "    <tr>\n",
              "      <th>2023-11-23</th>\n",
              "      <td>700000.000000</td>\n",
              "      <td>708000.000000</td>\n",
              "      <td>691000.000000</td>\n",
              "      <td>703000.000000</td>\n",
              "      <td>703000.000000</td>\n",
              "      <td>170376</td>\n",
              "    </tr>\n",
              "    <tr>\n",
              "      <th>2023-11-24</th>\n",
              "      <td>705000.000000</td>\n",
              "      <td>710000.000000</td>\n",
              "      <td>693000.000000</td>\n",
              "      <td>695000.000000</td>\n",
              "      <td>695000.000000</td>\n",
              "      <td>175694</td>\n",
              "    </tr>\n",
              "    <tr>\n",
              "      <th>2023-11-27</th>\n",
              "      <td>707000.000000</td>\n",
              "      <td>707000.000000</td>\n",
              "      <td>679000.000000</td>\n",
              "      <td>692000.000000</td>\n",
              "      <td>692000.000000</td>\n",
              "      <td>247894</td>\n",
              "    </tr>\n",
              "    <tr>\n",
              "      <th>2023-11-28</th>\n",
              "      <td>693000.000000</td>\n",
              "      <td>737000.000000</td>\n",
              "      <td>692000.000000</td>\n",
              "      <td>711000.000000</td>\n",
              "      <td>711000.000000</td>\n",
              "      <td>451008</td>\n",
              "    </tr>\n",
              "  </tbody>\n",
              "</table>\n",
              "<p>4018 rows × 6 columns</p>\n",
              "</div>\n",
              "    <div class=\"colab-df-buttons\">\n",
              "\n",
              "  <div class=\"colab-df-container\">\n",
              "    <button class=\"colab-df-convert\" onclick=\"convertToInteractive('df-d57e0f57-2ebb-4e99-8960-d154d84c2927')\"\n",
              "            title=\"Convert this dataframe to an interactive table.\"\n",
              "            style=\"display:none;\">\n",
              "\n",
              "  <svg xmlns=\"http://www.w3.org/2000/svg\" height=\"24px\" viewBox=\"0 -960 960 960\">\n",
              "    <path d=\"M120-120v-720h720v720H120Zm60-500h600v-160H180v160Zm220 220h160v-160H400v160Zm0 220h160v-160H400v160ZM180-400h160v-160H180v160Zm440 0h160v-160H620v160ZM180-180h160v-160H180v160Zm440 0h160v-160H620v160Z\"/>\n",
              "  </svg>\n",
              "    </button>\n",
              "\n",
              "  <style>\n",
              "    .colab-df-container {\n",
              "      display:flex;\n",
              "      gap: 12px;\n",
              "    }\n",
              "\n",
              "    .colab-df-convert {\n",
              "      background-color: #E8F0FE;\n",
              "      border: none;\n",
              "      border-radius: 50%;\n",
              "      cursor: pointer;\n",
              "      display: none;\n",
              "      fill: #1967D2;\n",
              "      height: 32px;\n",
              "      padding: 0 0 0 0;\n",
              "      width: 32px;\n",
              "    }\n",
              "\n",
              "    .colab-df-convert:hover {\n",
              "      background-color: #E2EBFA;\n",
              "      box-shadow: 0px 1px 2px rgba(60, 64, 67, 0.3), 0px 1px 3px 1px rgba(60, 64, 67, 0.15);\n",
              "      fill: #174EA6;\n",
              "    }\n",
              "\n",
              "    .colab-df-buttons div {\n",
              "      margin-bottom: 4px;\n",
              "    }\n",
              "\n",
              "    [theme=dark] .colab-df-convert {\n",
              "      background-color: #3B4455;\n",
              "      fill: #D2E3FC;\n",
              "    }\n",
              "\n",
              "    [theme=dark] .colab-df-convert:hover {\n",
              "      background-color: #434B5C;\n",
              "      box-shadow: 0px 1px 3px 1px rgba(0, 0, 0, 0.15);\n",
              "      filter: drop-shadow(0px 1px 2px rgba(0, 0, 0, 0.3));\n",
              "      fill: #FFFFFF;\n",
              "    }\n",
              "  </style>\n",
              "\n",
              "    <script>\n",
              "      const buttonEl =\n",
              "        document.querySelector('#df-d57e0f57-2ebb-4e99-8960-d154d84c2927 button.colab-df-convert');\n",
              "      buttonEl.style.display =\n",
              "        google.colab.kernel.accessAllowed ? 'block' : 'none';\n",
              "\n",
              "      async function convertToInteractive(key) {\n",
              "        const element = document.querySelector('#df-d57e0f57-2ebb-4e99-8960-d154d84c2927');\n",
              "        const dataTable =\n",
              "          await google.colab.kernel.invokeFunction('convertToInteractive',\n",
              "                                                    [key], {});\n",
              "        if (!dataTable) return;\n",
              "\n",
              "        const docLinkHtml = 'Like what you see? Visit the ' +\n",
              "          '<a target=\"_blank\" href=https://colab.research.google.com/notebooks/data_table.ipynb>data table notebook</a>'\n",
              "          + ' to learn more about interactive tables.';\n",
              "        element.innerHTML = '';\n",
              "        dataTable['output_type'] = 'display_data';\n",
              "        await google.colab.output.renderOutput(dataTable, element);\n",
              "        const docLink = document.createElement('div');\n",
              "        docLink.innerHTML = docLinkHtml;\n",
              "        element.appendChild(docLink);\n",
              "      }\n",
              "    </script>\n",
              "  </div>\n",
              "\n",
              "\n",
              "<div id=\"df-f13ba56b-bdec-425e-825a-f9e90be9a09b\">\n",
              "  <button class=\"colab-df-quickchart\" onclick=\"quickchart('df-f13ba56b-bdec-425e-825a-f9e90be9a09b')\"\n",
              "            title=\"Suggest charts\"\n",
              "            style=\"display:none;\">\n",
              "\n",
              "<svg xmlns=\"http://www.w3.org/2000/svg\" height=\"24px\"viewBox=\"0 0 24 24\"\n",
              "     width=\"24px\">\n",
              "    <g>\n",
              "        <path d=\"M19 3H5c-1.1 0-2 .9-2 2v14c0 1.1.9 2 2 2h14c1.1 0 2-.9 2-2V5c0-1.1-.9-2-2-2zM9 17H7v-7h2v7zm4 0h-2V7h2v10zm4 0h-2v-4h2v4z\"/>\n",
              "    </g>\n",
              "</svg>\n",
              "  </button>\n",
              "\n",
              "<style>\n",
              "  .colab-df-quickchart {\n",
              "      --bg-color: #E8F0FE;\n",
              "      --fill-color: #1967D2;\n",
              "      --hover-bg-color: #E2EBFA;\n",
              "      --hover-fill-color: #174EA6;\n",
              "      --disabled-fill-color: #AAA;\n",
              "      --disabled-bg-color: #DDD;\n",
              "  }\n",
              "\n",
              "  [theme=dark] .colab-df-quickchart {\n",
              "      --bg-color: #3B4455;\n",
              "      --fill-color: #D2E3FC;\n",
              "      --hover-bg-color: #434B5C;\n",
              "      --hover-fill-color: #FFFFFF;\n",
              "      --disabled-bg-color: #3B4455;\n",
              "      --disabled-fill-color: #666;\n",
              "  }\n",
              "\n",
              "  .colab-df-quickchart {\n",
              "    background-color: var(--bg-color);\n",
              "    border: none;\n",
              "    border-radius: 50%;\n",
              "    cursor: pointer;\n",
              "    display: none;\n",
              "    fill: var(--fill-color);\n",
              "    height: 32px;\n",
              "    padding: 0;\n",
              "    width: 32px;\n",
              "  }\n",
              "\n",
              "  .colab-df-quickchart:hover {\n",
              "    background-color: var(--hover-bg-color);\n",
              "    box-shadow: 0 1px 2px rgba(60, 64, 67, 0.3), 0 1px 3px 1px rgba(60, 64, 67, 0.15);\n",
              "    fill: var(--button-hover-fill-color);\n",
              "  }\n",
              "\n",
              "  .colab-df-quickchart-complete:disabled,\n",
              "  .colab-df-quickchart-complete:disabled:hover {\n",
              "    background-color: var(--disabled-bg-color);\n",
              "    fill: var(--disabled-fill-color);\n",
              "    box-shadow: none;\n",
              "  }\n",
              "\n",
              "  .colab-df-spinner {\n",
              "    border: 2px solid var(--fill-color);\n",
              "    border-color: transparent;\n",
              "    border-bottom-color: var(--fill-color);\n",
              "    animation:\n",
              "      spin 1s steps(1) infinite;\n",
              "  }\n",
              "\n",
              "  @keyframes spin {\n",
              "    0% {\n",
              "      border-color: transparent;\n",
              "      border-bottom-color: var(--fill-color);\n",
              "      border-left-color: var(--fill-color);\n",
              "    }\n",
              "    20% {\n",
              "      border-color: transparent;\n",
              "      border-left-color: var(--fill-color);\n",
              "      border-top-color: var(--fill-color);\n",
              "    }\n",
              "    30% {\n",
              "      border-color: transparent;\n",
              "      border-left-color: var(--fill-color);\n",
              "      border-top-color: var(--fill-color);\n",
              "      border-right-color: var(--fill-color);\n",
              "    }\n",
              "    40% {\n",
              "      border-color: transparent;\n",
              "      border-right-color: var(--fill-color);\n",
              "      border-top-color: var(--fill-color);\n",
              "    }\n",
              "    60% {\n",
              "      border-color: transparent;\n",
              "      border-right-color: var(--fill-color);\n",
              "    }\n",
              "    80% {\n",
              "      border-color: transparent;\n",
              "      border-right-color: var(--fill-color);\n",
              "      border-bottom-color: var(--fill-color);\n",
              "    }\n",
              "    90% {\n",
              "      border-color: transparent;\n",
              "      border-bottom-color: var(--fill-color);\n",
              "    }\n",
              "  }\n",
              "</style>\n",
              "\n",
              "  <script>\n",
              "    async function quickchart(key) {\n",
              "      const quickchartButtonEl =\n",
              "        document.querySelector('#' + key + ' button');\n",
              "      quickchartButtonEl.disabled = true;  // To prevent multiple clicks.\n",
              "      quickchartButtonEl.classList.add('colab-df-spinner');\n",
              "      try {\n",
              "        const charts = await google.colab.kernel.invokeFunction(\n",
              "            'suggestCharts', [key], {});\n",
              "      } catch (error) {\n",
              "        console.error('Error during call to suggestCharts:', error);\n",
              "      }\n",
              "      quickchartButtonEl.classList.remove('colab-df-spinner');\n",
              "      quickchartButtonEl.classList.add('colab-df-quickchart-complete');\n",
              "    }\n",
              "    (() => {\n",
              "      let quickchartButtonEl =\n",
              "        document.querySelector('#df-f13ba56b-bdec-425e-825a-f9e90be9a09b button');\n",
              "      quickchartButtonEl.style.display =\n",
              "        google.colab.kernel.accessAllowed ? 'block' : 'none';\n",
              "    })();\n",
              "  </script>\n",
              "</div>\n",
              "\n",
              "  <div id=\"id_fbfd272b-0409-4671-bbd5-a6d606768249\">\n",
              "    <style>\n",
              "      .colab-df-generate {\n",
              "        background-color: #E8F0FE;\n",
              "        border: none;\n",
              "        border-radius: 50%;\n",
              "        cursor: pointer;\n",
              "        display: none;\n",
              "        fill: #1967D2;\n",
              "        height: 32px;\n",
              "        padding: 0 0 0 0;\n",
              "        width: 32px;\n",
              "      }\n",
              "\n",
              "      .colab-df-generate:hover {\n",
              "        background-color: #E2EBFA;\n",
              "        box-shadow: 0px 1px 2px rgba(60, 64, 67, 0.3), 0px 1px 3px 1px rgba(60, 64, 67, 0.15);\n",
              "        fill: #174EA6;\n",
              "      }\n",
              "\n",
              "      [theme=dark] .colab-df-generate {\n",
              "        background-color: #3B4455;\n",
              "        fill: #D2E3FC;\n",
              "      }\n",
              "\n",
              "      [theme=dark] .colab-df-generate:hover {\n",
              "        background-color: #434B5C;\n",
              "        box-shadow: 0px 1px 3px 1px rgba(0, 0, 0, 0.15);\n",
              "        filter: drop-shadow(0px 1px 2px rgba(0, 0, 0, 0.3));\n",
              "        fill: #FFFFFF;\n",
              "      }\n",
              "    </style>\n",
              "    <button class=\"colab-df-generate\" onclick=\"generateWithVariable('df')\"\n",
              "            title=\"Generate code using this dataframe.\"\n",
              "            style=\"display:none;\">\n",
              "\n",
              "  <svg xmlns=\"http://www.w3.org/2000/svg\" height=\"24px\"viewBox=\"0 0 24 24\"\n",
              "       width=\"24px\">\n",
              "    <path d=\"M7,19H8.4L18.45,9,17,7.55,7,17.6ZM5,21V16.75L18.45,3.32a2,2,0,0,1,2.83,0l1.4,1.43a1.91,1.91,0,0,1,.58,1.4,1.91,1.91,0,0,1-.58,1.4L9.25,21ZM18.45,9,17,7.55Zm-12,3A5.31,5.31,0,0,0,4.9,8.1,5.31,5.31,0,0,0,1,6.5,5.31,5.31,0,0,0,4.9,4.9,5.31,5.31,0,0,0,6.5,1,5.31,5.31,0,0,0,8.1,4.9,5.31,5.31,0,0,0,12,6.5,5.46,5.46,0,0,0,6.5,12Z\"/>\n",
              "  </svg>\n",
              "    </button>\n",
              "    <script>\n",
              "      (() => {\n",
              "      const buttonEl =\n",
              "        document.querySelector('#id_fbfd272b-0409-4671-bbd5-a6d606768249 button.colab-df-generate');\n",
              "      buttonEl.style.display =\n",
              "        google.colab.kernel.accessAllowed ? 'block' : 'none';\n",
              "\n",
              "      buttonEl.onclick = () => {\n",
              "        google.colab.notebook.generateWithVariable('df');\n",
              "      }\n",
              "      })();\n",
              "    </script>\n",
              "  </div>\n",
              "\n",
              "    </div>\n",
              "  </div>\n"
            ]
          },
          "metadata": {},
          "execution_count": 80
        }
      ]
    },
    {
      "cell_type": "code",
      "source": [
        "plt.figure(figsize=(16,6))\n",
        "plt.title('Close Price History')\n",
        "plt.plot(df['Close'])\n",
        "plt.xlabel('Date', fontsize=18)\n",
        "plt.ylabel('Close Price USD ($)', fontsize=18)\n",
        "plt.show()"
      ],
      "metadata": {
        "colab": {
          "base_uri": "https://localhost:8080/",
          "height": 581
        },
        "id": "O7T-CWuwYqKN",
        "outputId": "2b193770-68c1-43b7-853d-2fad68b44d3d"
      },
      "execution_count": 81,
      "outputs": [
        {
          "output_type": "display_data",
          "data": {
            "text/plain": [
              "<Figure size 1600x600 with 1 Axes>"
            ],
            "image/png": "[encoded data removed]"
          },
          "metadata": {}
        }
      ]
    },
    {
      "cell_type": "code",
      "source": [
        "data = df.filter(['Close'])"
      ],
      "metadata": {
        "id": "XMar2cBSY4zF"
      },
      "execution_count": 82,
      "outputs": []
    },
    {
      "cell_type": "code",
      "source": [
        "data"
      ],
      "metadata": {
        "colab": {
          "base_uri": "https://localhost:8080/",
          "height": 455
        },
        "id": "H3x7Kv53ZIFu",
        "outputId": "6b87bd08-0510-4ec3-80ce-a006eb5553c9"
      },
      "execution_count": 83,
      "outputs": [
        {
          "output_type": "execute_result",
          "data": {
            "text/plain": [
              "                    Close\n",
              "Date                     \n",
              "2007-07-20   20683.408203\n",
              "2007-07-23   23774.679688\n",
              "2007-07-24   24730.162109\n",
              "2007-07-25   23718.474609\n",
              "2007-07-26   26416.310547\n",
              "...                   ...\n",
              "2023-11-22  700000.000000\n",
              "2023-11-23  703000.000000\n",
              "2023-11-24  695000.000000\n",
              "2023-11-27  692000.000000\n",
              "2023-11-28  711000.000000\n",
              "\n",
              "[4018 rows x 1 columns]"
            ],
            "text/html": [
              "\n",
              "  <div id=\"df-38743dfb-ef23-4df2-8a47-1ba3b068e596\" class=\"colab-df-container\">\n",
              "    <div>\n",
              "<style scoped>\n",
              "    .dataframe tbody tr th:only-of-type {\n",
              "        vertical-align: middle;\n",
              "    }\n",
              "\n",
              "    .dataframe tbody tr th {\n",
              "        vertical-align: top;\n",
              "    }\n",
              "\n",
              "    .dataframe thead th {\n",
              "        text-align: right;\n",
              "    }\n",
              "</style>\n",
              "<table border=\"1\" class=\"dataframe\">\n",
              "  <thead>\n",
              "    <tr style=\"text-align: right;\">\n",
              "      <th></th>\n",
              "      <th>Close</th>\n",
              "    </tr>\n",
              "    <tr>\n",
              "      <th>Date</th>\n",
              "      <th></th>\n",
              "    </tr>\n",
              "  </thead>\n",
              "  <tbody>\n",
              "    <tr>\n",
              "      <th>2007-07-20</th>\n",
              "      <td>20683.408203</td>\n",
              "    </tr>\n",
              "    <tr>\n",
              "      <th>2007-07-23</th>\n",
              "      <td>23774.679688</td>\n",
              "    </tr>\n",
              "    <tr>\n",
              "      <th>2007-07-24</th>\n",
              "      <td>24730.162109</td>\n",
              "    </tr>\n",
              "    <tr>\n",
              "      <th>2007-07-25</th>\n",
              "      <td>23718.474609</td>\n",
              "    </tr>\n",
              "    <tr>\n",
              "      <th>2007-07-26</th>\n",
              "      <td>26416.310547</td>\n",
              "    </tr>\n",
              "    <tr>\n",
              "      <th>...</th>\n",
              "      <td>...</td>\n",
              "    </tr>\n",
              "    <tr>\n",
              "      <th>2023-11-22</th>\n",
              "      <td>700000.000000</td>\n",
              "    </tr>\n",
              "    <tr>\n",
              "      <th>2023-11-23</th>\n",
              "      <td>703000.000000</td>\n",
              "    </tr>\n",
              "    <tr>\n",
              "      <th>2023-11-24</th>\n",
              "      <td>695000.000000</td>\n",
              "    </tr>\n",
              "    <tr>\n",
              "      <th>2023-11-27</th>\n",
              "      <td>692000.000000</td>\n",
              "    </tr>\n",
              "    <tr>\n",
              "      <th>2023-11-28</th>\n",
              "      <td>711000.000000</td>\n",
              "    </tr>\n",
              "  </tbody>\n",
              "</table>\n",
              "<p>4018 rows × 1 columns</p>\n",
              "</div>\n",
              "    <div class=\"colab-df-buttons\">\n",
              "\n",
              "  <div class=\"colab-df-container\">\n",
              "    <button class=\"colab-df-convert\" onclick=\"convertToInteractive('df-38743dfb-ef23-4df2-8a47-1ba3b068e596')\"\n",
              "            title=\"Convert this dataframe to an interactive table.\"\n",
              "            style=\"display:none;\">\n",
              "\n",
              "  <svg xmlns=\"http://www.w3.org/2000/svg\" height=\"24px\" viewBox=\"0 -960 960 960\">\n",
              "    <path d=\"M120-120v-720h720v720H120Zm60-500h600v-160H180v160Zm220 220h160v-160H400v160Zm0 220h160v-160H400v160ZM180-400h160v-160H180v160Zm440 0h160v-160H620v160ZM180-180h160v-160H180v160Zm440 0h160v-160H620v160Z\"/>\n",
              "  </svg>\n",
              "    </button>\n",
              "\n",
              "  <style>\n",
              "    .colab-df-container {\n",
              "      display:flex;\n",
              "      gap: 12px;\n",
              "    }\n",
              "\n",
              "    .colab-df-convert {\n",
              "      background-color: #E8F0FE;\n",
              "      border: none;\n",
              "      border-radius: 50%;\n",
              "      cursor: pointer;\n",
              "      display: none;\n",
              "      fill: #1967D2;\n",
              "      height: 32px;\n",
              "      padding: 0 0 0 0;\n",
              "      width: 32px;\n",
              "    }\n",
              "\n",
              "    .colab-df-convert:hover {\n",
              "      background-color: #E2EBFA;\n",
              "      box-shadow: 0px 1px 2px rgba(60, 64, 67, 0.3), 0px 1px 3px 1px rgba(60, 64, 67, 0.15);\n",
              "      fill: #174EA6;\n",
              "    }\n",
              "\n",
              "    .colab-df-buttons div {\n",
              "      margin-bottom: 4px;\n",
              "    }\n",
              "\n",
              "    [theme=dark] .colab-df-convert {\n",
              "      background-color: #3B4455;\n",
              "      fill: #D2E3FC;\n",
              "    }\n",
              "\n",
              "    [theme=dark] .colab-df-convert:hover {\n",
              "      background-color: #434B5C;\n",
              "      box-shadow: 0px 1px 3px 1px rgba(0, 0, 0, 0.15);\n",
              "      filter: drop-shadow(0px 1px 2px rgba(0, 0, 0, 0.3));\n",
              "      fill: #FFFFFF;\n",
              "    }\n",
              "  </style>\n",
              "\n",
              "    <script>\n",
              "      const buttonEl =\n",
              "        document.querySelector('#df-38743dfb-ef23-4df2-8a47-1ba3b068e596 button.colab-df-convert');\n",
              "      buttonEl.style.display =\n",
              "        google.colab.kernel.accessAllowed ? 'block' : 'none';\n",
              "\n",
              "      async function convertToInteractive(key) {\n",
              "        const element = document.querySelector('#df-38743dfb-ef23-4df2-8a47-1ba3b068e596');\n",
              "        const dataTable =\n",
              "          await google.colab.kernel.invokeFunction('convertToInteractive',\n",
              "                                                    [key], {});\n",
              "        if (!dataTable) return;\n",
              "\n",
              "        const docLinkHtml = 'Like what you see? Visit the ' +\n",
              "          '<a target=\"_blank\" href=https://colab.research.google.com/notebooks/data_table.ipynb>data table notebook</a>'\n",
              "          + ' to learn more about interactive tables.';\n",
              "        element.innerHTML = '';\n",
              "        dataTable['output_type'] = 'display_data';\n",
              "        await google.colab.output.renderOutput(dataTable, element);\n",
              "        const docLink = document.createElement('div');\n",
              "        docLink.innerHTML = docLinkHtml;\n",
              "        element.appendChild(docLink);\n",
              "      }\n",
              "    </script>\n",
              "  </div>\n",
              "\n",
              "\n",
              "<div id=\"df-0a8382c1-7c54-4600-86ff-a56b8b69bacb\">\n",
              "  <button class=\"colab-df-quickchart\" onclick=\"quickchart('df-0a8382c1-7c54-4600-86ff-a56b8b69bacb')\"\n",
              "            title=\"Suggest charts\"\n",
              "            style=\"display:none;\">\n",
              "\n",
              "<svg xmlns=\"http://www.w3.org/2000/svg\" height=\"24px\"viewBox=\"0 0 24 24\"\n",
              "     width=\"24px\">\n",
              "    <g>\n",
              "        <path d=\"M19 3H5c-1.1 0-2 .9-2 2v14c0 1.1.9 2 2 2h14c1.1 0 2-.9 2-2V5c0-1.1-.9-2-2-2zM9 17H7v-7h2v7zm4 0h-2V7h2v10zm4 0h-2v-4h2v4z\"/>\n",
              "    </g>\n",
              "</svg>\n",
              "  </button>\n",
              "\n",
              "<style>\n",
              "  .colab-df-quickchart {\n",
              "      --bg-color: #E8F0FE;\n",
              "      --fill-color: #1967D2;\n",
              "      --hover-bg-color: #E2EBFA;\n",
              "      --hover-fill-color: #174EA6;\n",
              "      --disabled-fill-color: #AAA;\n",
              "      --disabled-bg-color: #DDD;\n",
              "  }\n",
              "\n",
              "  [theme=dark] .colab-df-quickchart {\n",
              "      --bg-color: #3B4455;\n",
              "      --fill-color: #D2E3FC;\n",
              "      --hover-bg-color: #434B5C;\n",
              "      --hover-fill-color: #FFFFFF;\n",
              "      --disabled-bg-color: #3B4455;\n",
              "      --disabled-fill-color: #666;\n",
              "  }\n",
              "\n",
              "  .colab-df-quickchart {\n",
              "    background-color: var(--bg-color);\n",
              "    border: none;\n",
              "    border-radius: 50%;\n",
              "    cursor: pointer;\n",
              "    display: none;\n",
              "    fill: var(--fill-color);\n",
              "    height: 32px;\n",
              "    padding: 0;\n",
              "    width: 32px;\n",
              "  }\n",
              "\n",
              "  .colab-df-quickchart:hover {\n",
              "    background-color: var(--hover-bg-color);\n",
              "    box-shadow: 0 1px 2px rgba(60, 64, 67, 0.3), 0 1px 3px 1px rgba(60, 64, 67, 0.15);\n",
              "    fill: var(--button-hover-fill-color);\n",
              "  }\n",
              "\n",
              "  .colab-df-quickchart-complete:disabled,\n",
              "  .colab-df-quickchart-complete:disabled:hover {\n",
              "    background-color: var(--disabled-bg-color);\n",
              "    fill: var(--disabled-fill-color);\n",
              "    box-shadow: none;\n",
              "  }\n",
              "\n",
              "  .colab-df-spinner {\n",
              "    border: 2px solid var(--fill-color);\n",
              "    border-color: transparent;\n",
              "    border-bottom-color: var(--fill-color);\n",
              "    animation:\n",
              "      spin 1s steps(1) infinite;\n",
              "  }\n",
              "\n",
              "  @keyframes spin {\n",
              "    0% {\n",
              "      border-color: transparent;\n",
              "      border-bottom-color: var(--fill-color);\n",
              "      border-left-color: var(--fill-color);\n",
              "    }\n",
              "    20% {\n",
              "      border-color: transparent;\n",
              "      border-left-color: var(--fill-color);\n",
              "      border-top-color: var(--fill-color);\n",
              "    }\n",
              "    30% {\n",
              "      border-color: transparent;\n",
              "      border-left-color: var(--fill-color);\n",
              "      border-top-color: var(--fill-color);\n",
              "      border-right-color: var(--fill-color);\n",
              "    }\n",
              "    40% {\n",
              "      border-color: transparent;\n",
              "      border-right-color: var(--fill-color);\n",
              "      border-top-color: var(--fill-color);\n",
              "    }\n",
              "    60% {\n",
              "      border-color: transparent;\n",
              "      border-right-color: var(--fill-color);\n",
              "    }\n",
              "    80% {\n",
              "      border-color: transparent;\n",
              "      border-right-color: var(--fill-color);\n",
              "      border-bottom-color: var(--fill-color);\n",
              "    }\n",
              "    90% {\n",
              "      border-color: transparent;\n",
              "      border-bottom-color: var(--fill-color);\n",
              "    }\n",
              "  }\n",
              "</style>\n",
              "\n",
              "  <script>\n",
              "    async function quickchart(key) {\n",
              "      const quickchartButtonEl =\n",
              "        document.querySelector('#' + key + ' button');\n",
              "      quickchartButtonEl.disabled = true;  // To prevent multiple clicks.\n",
              "      quickchartButtonEl.classList.add('colab-df-spinner');\n",
              "      try {\n",
              "        const charts = await google.colab.kernel.invokeFunction(\n",
              "            'suggestCharts', [key], {});\n",
              "      } catch (error) {\n",
              "        console.error('Error during call to suggestCharts:', error);\n",
              "      }\n",
              "      quickchartButtonEl.classList.remove('colab-df-spinner');\n",
              "      quickchartButtonEl.classList.add('colab-df-quickchart-complete');\n",
              "    }\n",
              "    (() => {\n",
              "      let quickchartButtonEl =\n",
              "        document.querySelector('#df-0a8382c1-7c54-4600-86ff-a56b8b69bacb button');\n",
              "      quickchartButtonEl.style.display =\n",
              "        google.colab.kernel.accessAllowed ? 'block' : 'none';\n",
              "    })();\n",
              "  </script>\n",
              "</div>\n",
              "\n",
              "  <div id=\"id_18d38b40-70b2-4325-ab92-576e9c28bcbe\">\n",
              "    <style>\n",
              "      .colab-df-generate {\n",
              "        background-color: #E8F0FE;\n",
              "        border: none;\n",
              "        border-radius: 50%;\n",
              "        cursor: pointer;\n",
              "        display: none;\n",
              "        fill: #1967D2;\n",
              "        height: 32px;\n",
              "        padding: 0 0 0 0;\n",
              "        width: 32px;\n",
              "      }\n",
              "\n",
              "      .colab-df-generate:hover {\n",
              "        background-color: #E2EBFA;\n",
              "        box-shadow: 0px 1px 2px rgba(60, 64, 67, 0.3), 0px 1px 3px 1px rgba(60, 64, 67, 0.15);\n",
              "        fill: #174EA6;\n",
              "      }\n",
              "\n",
              "      [theme=dark] .colab-df-generate {\n",
              "        background-color: #3B4455;\n",
              "        fill: #D2E3FC;\n",
              "      }\n",
              "\n",
              "      [theme=dark] .colab-df-generate:hover {\n",
              "        background-color: #434B5C;\n",
              "        box-shadow: 0px 1px 3px 1px rgba(0, 0, 0, 0.15);\n",
              "        filter: drop-shadow(0px 1px 2px rgba(0, 0, 0, 0.3));\n",
              "        fill: #FFFFFF;\n",
              "      }\n",
              "    </style>\n",
              "    <button class=\"colab-df-generate\" onclick=\"generateWithVariable('data')\"\n",
              "            title=\"Generate code using this dataframe.\"\n",
              "            style=\"display:none;\">\n",
              "\n",
              "  <svg xmlns=\"http://www.w3.org/2000/svg\" height=\"24px\"viewBox=\"0 0 24 24\"\n",
              "       width=\"24px\">\n",
              "    <path d=\"M7,19H8.4L18.45,9,17,7.55,7,17.6ZM5,21V16.75L18.45,3.32a2,2,0,0,1,2.83,0l1.4,1.43a1.91,1.91,0,0,1,.58,1.4,1.91,1.91,0,0,1-.58,1.4L9.25,21ZM18.45,9,17,7.55Zm-12,3A5.31,5.31,0,0,0,4.9,8.1,5.31,5.31,0,0,0,1,6.5,5.31,5.31,0,0,0,4.9,4.9,5.31,5.31,0,0,0,6.5,1,5.31,5.31,0,0,0,8.1,4.9,5.31,5.31,0,0,0,12,6.5,5.46,5.46,0,0,0,6.5,12Z\"/>\n",
              "  </svg>\n",
              "    </button>\n",
              "    <script>\n",
              "      (() => {\n",
              "      const buttonEl =\n",
              "        document.querySelector('#id_18d38b40-70b2-4325-ab92-576e9c28bcbe button.colab-df-generate');\n",
              "      buttonEl.style.display =\n",
              "        google.colab.kernel.accessAllowed ? 'block' : 'none';\n",
              "\n",
              "      buttonEl.onclick = () => {\n",
              "        google.colab.notebook.generateWithVariable('data');\n",
              "      }\n",
              "      })();\n",
              "    </script>\n",
              "  </div>\n",
              "\n",
              "    </div>\n",
              "  </div>\n"
            ]
          },
          "metadata": {},
          "execution_count": 83
        }
      ]
    },
    {
      "cell_type": "code",
      "source": [
        "dataset=data.values"
      ],
      "metadata": {
        "id": "7qXILc3XZJ0G"
      },
      "execution_count": 84,
      "outputs": []
    },
    {
      "cell_type": "code",
      "source": [
        "len(dataset)"
      ],
      "metadata": {
        "colab": {
          "base_uri": "https://localhost:8080/"
        },
        "id": "WYF1_CSNZNCZ",
        "outputId": "9ae0f418-bfa0-4eb4-dc34-c0423b854f1d"
      },
      "execution_count": 85,
      "outputs": [
        {
          "output_type": "execute_result",
          "data": {
            "text/plain": [
              "4018"
            ]
          },
          "metadata": {},
          "execution_count": 85
        }
      ]
    },
    {
      "cell_type": "code",
      "source": [
        "dataset"
      ],
      "metadata": {
        "colab": {
          "base_uri": "https://localhost:8080/"
        },
        "id": "uNzKx9ZDZP_G",
        "outputId": "4bd2961d-4050-4c7d-d98b-ac9a0c136cfb"
      },
      "execution_count": 86,
      "outputs": [
        {
          "output_type": "execute_result",
          "data": {
            "text/plain": [
              "array([[ 20683.40820312],\n",
              "       [ 23774.6796875 ],\n",
              "       [ 24730.16210938],\n",
              "       ...,\n",
              "       [695000.        ],\n",
              "       [692000.        ],\n",
              "       [711000.        ]])"
            ]
          },
          "metadata": {},
          "execution_count": 86
        }
      ]
    },
    {
      "cell_type": "code",
      "source": [
        "train_data_len = int(np.ceil(len(dataset)*.96))"
      ],
      "metadata": {
        "id": "_ncp0_KBZRx5"
      },
      "execution_count": 114,
      "outputs": []
    },
    {
      "cell_type": "code",
      "source": [
        "train_data_len"
      ],
      "metadata": {
        "colab": {
          "base_uri": "https://localhost:8080/"
        },
        "id": "yb4n8OkeZcwt",
        "outputId": "0b3be774-afdf-4aa6-f820-677d3aaa4655"
      },
      "execution_count": 115,
      "outputs": [
        {
          "output_type": "execute_result",
          "data": {
            "text/plain": [
              "3858"
            ]
          },
          "metadata": {},
          "execution_count": 115
        }
      ]
    },
    {
      "cell_type": "code",
      "source": [
        "from sklearn.preprocessing import MinMaxScaler"
      ],
      "metadata": {
        "id": "mzCdIVDxZeBt"
      },
      "execution_count": 116,
      "outputs": []
    },
    {
      "cell_type": "code",
      "source": [
        "scaler = MinMaxScaler(feature_range=(0,1))\n",
        "scaled_data = scaler.fit_transform(dataset)\n",
        "\n",
        "scaled_data"
      ],
      "metadata": {
        "colab": {
          "base_uri": "https://localhost:8080/"
        },
        "id": "-PBP5_4IZmVX",
        "outputId": "dd5b66da-0f06-48d9-88e8-747bf30e41eb"
      },
      "execution_count": 117,
      "outputs": [
        {
          "output_type": "execute_result",
          "data": {
            "text/plain": [
              "array([[0.01320831],\n",
              "       [0.01560586],\n",
              "       [0.01634692],\n",
              "       ...,\n",
              "       [0.53619922],\n",
              "       [0.53387246],\n",
              "       [0.5486086 ]])"
            ]
          },
          "metadata": {},
          "execution_count": 117
        }
      ]
    },
    {
      "cell_type": "code",
      "source": [
        "train_data = scaled_data[0:int(train_data_len),:]"
      ],
      "metadata": {
        "id": "id65J1a1Z6X9"
      },
      "execution_count": 118,
      "outputs": []
    },
    {
      "cell_type": "code",
      "source": [
        "train_data"
      ],
      "metadata": {
        "colab": {
          "base_uri": "https://localhost:8080/"
        },
        "id": "HXbAxrbZaFCV",
        "outputId": "b719ecba-f864-45d2-860a-11ab52620c55"
      },
      "execution_count": 119,
      "outputs": [
        {
          "output_type": "execute_result",
          "data": {
            "text/plain": [
              "array([[0.01320831],\n",
              "       [0.01560586],\n",
              "       [0.01634692],\n",
              "       ...,\n",
              "       [0.38379645],\n",
              "       [0.38379645],\n",
              "       [0.38457204]])"
            ]
          },
          "metadata": {},
          "execution_count": 119
        }
      ]
    },
    {
      "cell_type": "code",
      "source": [
        "x_train = []\n",
        "y_train = []"
      ],
      "metadata": {
        "id": "u1zhQp7zaMGw"
      },
      "execution_count": 120,
      "outputs": []
    },
    {
      "cell_type": "code",
      "source": [
        "for i in range(60,len(train_data)):\n",
        "  x_train.append(train_data[i-60:i,0])\n",
        "  y_train.append(train_data[i,0])"
      ],
      "metadata": {
        "id": "pA-jdb4caO7x"
      },
      "execution_count": 121,
      "outputs": []
    },
    {
      "cell_type": "code",
      "source": [
        "len(x_train)"
      ],
      "metadata": {
        "colab": {
          "base_uri": "https://localhost:8080/"
        },
        "id": "JNyyfgCOalKy",
        "outputId": "ad967a47-f92c-4255-ca0f-d956ce93ebf8"
      },
      "execution_count": 122,
      "outputs": [
        {
          "output_type": "execute_result",
          "data": {
            "text/plain": [
              "3798"
            ]
          },
          "metadata": {},
          "execution_count": 122
        }
      ]
    },
    {
      "cell_type": "code",
      "source": [
        "len(y_train)"
      ],
      "metadata": {
        "colab": {
          "base_uri": "https://localhost:8080/"
        },
        "id": "PTFC0uGdamiK",
        "outputId": "12f42b5e-f79b-469e-b2bf-fa2a3d34dec2"
      },
      "execution_count": 123,
      "outputs": [
        {
          "output_type": "execute_result",
          "data": {
            "text/plain": [
              "3798"
            ]
          },
          "metadata": {},
          "execution_count": 123
        }
      ]
    },
    {
      "cell_type": "code",
      "source": [
        "x_train, y_train = np.array(x_train), np.array(y_train)"
      ],
      "metadata": {
        "id": "zBYZnRJhazEz"
      },
      "execution_count": 124,
      "outputs": []
    },
    {
      "cell_type": "code",
      "source": [
        "x_train.shape"
      ],
      "metadata": {
        "colab": {
          "base_uri": "https://localhost:8080/"
        },
        "id": "O7hR05BNa6Tf",
        "outputId": "a74c8f82-661b-4f76-f156-b74a8b69c265"
      },
      "execution_count": 125,
      "outputs": [
        {
          "output_type": "execute_result",
          "data": {
            "text/plain": [
              "(3798, 60)"
            ]
          },
          "metadata": {},
          "execution_count": 125
        }
      ]
    },
    {
      "cell_type": "code",
      "source": [
        "x_train = np.reshape(x_train,(x_train.shape[0], x_train.shape[1],1))"
      ],
      "metadata": {
        "id": "vHKwZxMdbOtn"
      },
      "execution_count": 126,
      "outputs": []
    },
    {
      "cell_type": "code",
      "source": [
        "x_train.shape"
      ],
      "metadata": {
        "colab": {
          "base_uri": "https://localhost:8080/"
        },
        "id": "ekRjPTmYbbM5",
        "outputId": "7871e4aa-5f7e-46af-84b3-dd6d694a0a20"
      },
      "execution_count": 127,
      "outputs": [
        {
          "output_type": "execute_result",
          "data": {
            "text/plain": [
              "(3798, 60, 1)"
            ]
          },
          "metadata": {},
          "execution_count": 127
        }
      ]
    },
    {
      "cell_type": "code",
      "source": [
        "from keras.models import Sequential\n",
        "from keras.layers import Dense, LSTM\n",
        "\n",
        "model = Sequential()\n",
        "model.add(LSTM(128,return_sequences=True, input_shape=(x_train.shape[1],1)))\n",
        "model.add(LSTM(64, return_sequences=True))\n",
        "model.add(LSTM(32, return_sequences=False))\n",
        "model.add(Dense(25))\n",
        "model.add(Dense(1))"
      ],
      "metadata": {
        "id": "QYA3-DKScFKX"
      },
      "execution_count": 128,
      "outputs": []
    },
    {
      "cell_type": "code",
      "source": [
        "model.compile(optimizer='adam', loss='mean_squared_error')"
      ],
      "metadata": {
        "id": "JHcgmNUTcI-2"
      },
      "execution_count": 129,
      "outputs": []
    },
    {
      "cell_type": "code",
      "source": [
        "model.fit(x_train, y_train, batch_size=20, epochs=20)"
      ],
      "metadata": {
        "colab": {
          "base_uri": "https://localhost:8080/"
        },
        "id": "GnaibkzLcSIx",
        "outputId": "a2ad4d42-2421-4861-f07b-3a16e4b1558d"
      },
      "execution_count": 130,
      "outputs": [
        {
          "output_type": "stream",
          "name": "stdout",
          "text": [
            "Epoch 1/20\n",
            "190/190 [==============================] - 8s 16ms/step - loss: 1.3839e-04\n",
            "Epoch 2/20\n",
            "190/190 [==============================] - 2s 13ms/step - loss: 7.4508e-05\n",
            "Epoch 3/20\n",
            "190/190 [==============================] - 2s 11ms/step - loss: 4.5665e-05\n",
            "Epoch 4/20\n",
            "190/190 [==============================] - 2s 11ms/step - loss: 2.2816e-05\n",
            "Epoch 5/20\n",
            "190/190 [==============================] - 2s 11ms/step - loss: 3.5290e-05\n",
            "Epoch 6/20\n",
            "190/190 [==============================] - 2s 11ms/step - loss: 2.3571e-05\n",
            "Epoch 7/20\n",
            "190/190 [==============================] - 3s 15ms/step - loss: 1.8443e-05\n",
            "Epoch 8/20\n",
            "190/190 [==============================] - 3s 13ms/step - loss: 2.6061e-05\n",
            "Epoch 9/20\n",
            "190/190 [==============================] - 2s 11ms/step - loss: 2.4515e-05\n",
            "Epoch 10/20\n",
            "190/190 [==============================] - 2s 11ms/step - loss: 2.5541e-05\n",
            "Epoch 11/20\n",
            "190/190 [==============================] - 2s 11ms/step - loss: 2.1598e-05\n",
            "Epoch 12/20\n",
            "190/190 [==============================] - 2s 11ms/step - loss: 2.6841e-05\n",
            "Epoch 13/20\n",
            "190/190 [==============================] - 3s 14ms/step - loss: 2.1112e-05\n",
            "Epoch 14/20\n",
            "190/190 [==============================] - 3s 14ms/step - loss: 1.9091e-05\n",
            "Epoch 15/20\n",
            "190/190 [==============================] - 2s 11ms/step - loss: 1.9274e-05\n",
            "Epoch 16/20\n",
            "190/190 [==============================] - 2s 11ms/step - loss: 2.1111e-05\n",
            "Epoch 17/20\n",
            "190/190 [==============================] - 2s 11ms/step - loss: 1.4521e-05\n",
            "Epoch 18/20\n",
            "190/190 [==============================] - 2s 11ms/step - loss: 1.3374e-05\n",
            "Epoch 19/20\n",
            "190/190 [==============================] - 3s 14ms/step - loss: 3.0935e-05\n",
            "Epoch 20/20\n",
            "190/190 [==============================] - 3s 14ms/step - loss: 1.6129e-05\n"
          ]
        },
        {
          "output_type": "execute_result",
          "data": {
            "text/plain": [
              "<keras.src.callbacks.History at 0x7bd849a024a0>"
            ]
          },
          "metadata": {},
          "execution_count": 130
        }
      ]
    },
    {
      "cell_type": "code",
      "source": [
        "test_data = scaled_data[train_data_len-60:,:]"
      ],
      "metadata": {
        "id": "B9-ZaLDucz8P"
      },
      "execution_count": 131,
      "outputs": []
    },
    {
      "cell_type": "code",
      "source": [
        "test_data"
      ],
      "metadata": {
        "colab": {
          "base_uri": "https://localhost:8080/"
        },
        "id": "wzEBJzBldbp1",
        "outputId": "7c50b877-9b54-4f78-ff6f-09ba971de679"
      },
      "execution_count": 132,
      "outputs": [
        {
          "output_type": "execute_result",
          "data": {
            "text/plain": [
              "array([[0.08271374],\n",
              "       [0.08217082],\n",
              "       [0.08294641],\n",
              "       [0.08178303],\n",
              "       [0.08752237],\n",
              "       [0.08713458],\n",
              "       [0.08635899],\n",
              "       [0.08752237],\n",
              "       [0.08620388],\n",
              "       [0.08620388],\n",
              "       [0.08341176],\n",
              "       [0.08473026],\n",
              "       [0.0882204 ],\n",
              "       [0.09380462],\n",
              "       [0.09380462],\n",
              "       [0.0953558 ],\n",
              "       [0.09240857],\n",
              "       [0.09675185],\n",
              "       [0.09876838],\n",
              "       [0.10388725],\n",
              "       [0.11055729],\n",
              "       [0.12583635],\n",
              "       [0.1311879 ],\n",
              "       [0.14538113],\n",
              "       [0.14297681],\n",
              "       [0.14980198],\n",
              "       [0.15011221],\n",
              "       [0.16275427],\n",
              "       [0.18253173],\n",
              "       [0.16818338],\n",
              "       [0.18020497],\n",
              "       [0.1898998 ],\n",
              "       [0.18136835],\n",
              "       [0.18524628],\n",
              "       [0.18485849],\n",
              "       [0.21433078],\n",
              "       [0.21859651],\n",
              "       [0.21045285],\n",
              "       [0.22945472],\n",
              "       [0.23721059],\n",
              "       [0.22363782],\n",
              "       [0.25621246],\n",
              "       [0.25078335],\n",
              "       [0.236435  ],\n",
              "       [0.27754109],\n",
              "       [0.28490916],\n",
              "       [0.34462933],\n",
              "       [0.33687346],\n",
              "       [0.30701338],\n",
              "       [0.30972793],\n",
              "       [0.3229129 ],\n",
              "       [0.34850726],\n",
              "       [0.35005843],\n",
              "       [0.35083402],\n",
              "       [0.33764905],\n",
              "       [0.33338332],\n",
              "       [0.38379645],\n",
              "       [0.38379645],\n",
              "       [0.38379645],\n",
              "       [0.38457204],\n",
              "       [0.36557017],\n",
              "       [0.39659363],\n",
              "       [0.40202274],\n",
              "       [0.44623117],\n",
              "       [0.55714005],\n",
              "       [0.59359262],\n",
              "       [0.49354195],\n",
              "       [0.4679476 ],\n",
              "       [0.47104994],\n",
              "       [0.47570346],\n",
              "       [0.50595134],\n",
              "       [0.47492788],\n",
              "       [0.46949877],\n",
              "       [0.44235324],\n",
              "       [0.46096732],\n",
              "       [0.46019173],\n",
              "       [0.4617429 ],\n",
              "       [0.54705743],\n",
              "       [0.56334475],\n",
              "       [0.56567151],\n",
              "       [0.51603397],\n",
              "       [0.52689218],\n",
              "       [0.49199078],\n",
              "       [0.48035698],\n",
              "       [0.45476262],\n",
              "       [0.42373916],\n",
              "       [0.41908564],\n",
              "       [0.40124715],\n",
              "       [0.42451475],\n",
              "       [0.43769972],\n",
              "       [0.43537296],\n",
              "       [0.4097786 ],\n",
              "       [0.43692413],\n",
              "       [0.43925089],\n",
              "       [0.43692413],\n",
              "       [0.4214124 ],\n",
              "       [0.41753447],\n",
              "       [0.42063681],\n",
              "       [0.43382179],\n",
              "       [0.4330462 ],\n",
              "       [0.43692413],\n",
              "       [0.43614855],\n",
              "       [0.51060486],\n",
              "       [0.50750251],\n",
              "       [0.51680955],\n",
              "       [0.53387246],\n",
              "       [0.57808089],\n",
              "       [0.51448279],\n",
              "       [0.54783302],\n",
              "       [0.57110061],\n",
              "       [0.59591938],\n",
              "       [0.59049028],\n",
              "       [0.58816352],\n",
              "       [0.58816352],\n",
              "       [0.58506117],\n",
              "       [0.58738793],\n",
              "       [0.56954944],\n",
              "       [0.54007715],\n",
              "       [0.55093536],\n",
              "       [0.58195883],\n",
              "       [0.70139916],\n",
              "       [0.68433626],\n",
              "       [0.72854469],\n",
              "       [0.72699352],\n",
              "       [0.7572414 ],\n",
              "       [0.7456076 ],\n",
              "       [0.7107062 ],\n",
              "       [0.73862732],\n",
              "       [0.76344609],\n",
              "       [0.77197754],\n",
              "       [0.86427235],\n",
              "       [0.86349676],\n",
              "       [0.83712682],\n",
              "       [0.88366201],\n",
              "       [0.89762257],\n",
              "       [1.        ],\n",
              "       [0.94958687],\n",
              "       [0.76111933],\n",
              "       [0.85341413],\n",
              "       [0.93329955],\n",
              "       [0.93407514],\n",
              "       [0.86427235],\n",
              "       [0.93329955],\n",
              "       [0.9077052 ],\n",
              "       [0.82394184],\n",
              "       [0.8324733 ],\n",
              "       [0.87125263],\n",
              "       [0.9015005 ],\n",
              "       [0.87900849],\n",
              "       [0.84488268],\n",
              "       [0.79059162],\n",
              "       [0.86117   ],\n",
              "       [0.83169771],\n",
              "       [0.90848078],\n",
              "       [0.97518123],\n",
              "       [0.94415777],\n",
              "       [0.97363006],\n",
              "       [0.97207888],\n",
              "       [0.97052771],\n",
              "       [0.94415777],\n",
              "       [0.9650986 ],\n",
              "       [0.97207888],\n",
              "       [0.91158313],\n",
              "       [0.85884324],\n",
              "       [0.83324888],\n",
              "       [0.81153246],\n",
              "       [0.77740665],\n",
              "       [0.78904045],\n",
              "       [0.7572414 ],\n",
              "       [0.71846207],\n",
              "       [0.69441888],\n",
              "       [0.69829682],\n",
              "       [0.6874386 ],\n",
              "       [0.69441888],\n",
              "       [0.6874386 ],\n",
              "       [0.73630056],\n",
              "       [0.75026112],\n",
              "       [0.7394029 ],\n",
              "       [0.67968274],\n",
              "       [0.68588743],\n",
              "       [0.69597006],\n",
              "       [0.63624989],\n",
              "       [0.63702547],\n",
              "       [0.64788369],\n",
              "       [0.6067776 ],\n",
              "       [0.65098603],\n",
              "       [0.67425363],\n",
              "       [0.64323017],\n",
              "       [0.64478134],\n",
              "       [0.64090341],\n",
              "       [0.63469871],\n",
              "       [0.61608464],\n",
              "       [0.57963207],\n",
              "       [0.56334475],\n",
              "       [0.58040765],\n",
              "       [0.53232128],\n",
              "       [0.47880581],\n",
              "       [0.48966402],\n",
              "       [0.51060486],\n",
              "       [0.47803022],\n",
              "       [0.46019173],\n",
              "       [0.50052223],\n",
              "       [0.49121519],\n",
              "       [0.63935223],\n",
              "       [0.66339542],\n",
              "       [0.56877385],\n",
              "       [0.56256916],\n",
              "       [0.52844335],\n",
              "       [0.53077011],\n",
              "       [0.56256916],\n",
              "       [0.57110061],\n",
              "       [0.5486086 ],\n",
              "       [0.52378983],\n",
              "       [0.56179357],\n",
              "       [0.55946681],\n",
              "       [0.54007715],\n",
              "       [0.54240391],\n",
              "       [0.53619922],\n",
              "       [0.53387246],\n",
              "       [0.5486086 ]])"
            ]
          },
          "metadata": {},
          "execution_count": 132
        }
      ]
    },
    {
      "cell_type": "code",
      "source": [
        "x_test = []\n",
        "y_test = dataset[train_data_len:, :]"
      ],
      "metadata": {
        "id": "35_91w7jdmB9"
      },
      "execution_count": 133,
      "outputs": []
    },
    {
      "cell_type": "code",
      "source": [
        "for i in range(60, len(test_data)):\n",
        "  x_test.append(test_data[i-60:i,0])"
      ],
      "metadata": {
        "id": "X06jKGQedq03"
      },
      "execution_count": 134,
      "outputs": []
    },
    {
      "cell_type": "code",
      "source": [
        "x_test = np.array(x_test)"
      ],
      "metadata": {
        "id": "O86UGmjgdsJ5"
      },
      "execution_count": 135,
      "outputs": []
    },
    {
      "cell_type": "code",
      "source": [
        "x_test = np.reshape(x_test, (x_test.shape[0], x_test.shape[1], 1 ))"
      ],
      "metadata": {
        "id": "dVIgzmdEdtTN"
      },
      "execution_count": 136,
      "outputs": []
    },
    {
      "cell_type": "code",
      "source": [
        "predictions = model.predict(x_test)\n",
        "predictions = scaler.inverse_transform(predictions)"
      ],
      "metadata": {
        "colab": {
          "base_uri": "https://localhost:8080/"
        },
        "id": "RCxG59qQdu_D",
        "outputId": "62880976-270e-479c-ea84-737ac3757fe7"
      },
      "execution_count": 137,
      "outputs": [
        {
          "output_type": "stream",
          "name": "stdout",
          "text": [
            "5/5 [==============================] - 1s 9ms/step\n"
          ]
        }
      ]
    },
    {
      "cell_type": "code",
      "source": [
        "# Get the root mean squared error (RMSE)\n",
        "rmse = np.sqrt(np.mean(((predictions - y_test) ** 2)))\n",
        "rmse"
      ],
      "metadata": {
        "colab": {
          "base_uri": "https://localhost:8080/"
        },
        "id": "F4jmyvJIdxdU",
        "outputId": "7527a832-6e1f-4fa0-a702-21c6bb3d2ede"
      },
      "execution_count": 138,
      "outputs": [
        {
          "output_type": "execute_result",
          "data": {
            "text/plain": [
              "64878.73679620393"
            ]
          },
          "metadata": {},
          "execution_count": 138
        }
      ]
    },
    {
      "cell_type": "code",
      "source": [
        "train = data[:train_data_len]\n",
        "valid = data[train_data_len:]\n",
        "valid['Predictions'] = predictions\n",
        "# Visualize the data\n",
        "plt.figure(figsize=(16,6))\n",
        "plt.title('Model')\n",
        "plt.xlabel('Date', fontsize=18)\n",
        "plt.ylabel('Close Price USD ($)', fontsize=18)\n",
        "plt.plot(train['Close'])\n",
        "plt.plot(valid[['Close', 'Predictions']])\n",
        "plt.legend(['Train', 'Val', 'Predictions'], loc='lower right')\n",
        "plt.show()"
      ],
      "metadata": {
        "colab": {
          "base_uri": "https://localhost:8080/",
          "height": 690
        },
        "id": "B5CV6rahdzPS",
        "outputId": "78b32932-b267-41e1-9eb6-fdc94094e100"
      },
      "execution_count": 139,
      "outputs": [
        {
          "output_type": "stream",
          "name": "stderr",
          "text": [
            "<ipython-input-139-e8663f7b3d11>:3: SettingWithCopyWarning: \n",
            "A value is trying to be set on a copy of a slice from a DataFrame.\n",
            "Try using .loc[row_indexer,col_indexer] = value instead\n",
            "\n",
            "See the caveats in the documentation: https://pandas.pydata.org/pandas-docs/stable/user_guide/indexing.html#returning-a-view-versus-a-copy\n",
            "  valid['Predictions'] = predictions\n"
          ]
        },
        {
          "output_type": "display_data",
          "data": {
            "text/plain": [
              "<Figure size 1600x600 with 1 Axes>"
            ],
            "image/png": "[encoded data removed]"
          },
          "metadata": {}
        }
      ]
    },
    {
      "cell_type": "markdown",
      "source": [
        "급등구간이라 설명력이 많이 떨어진듯"
      ],
      "metadata": {
        "id": "M9KLIM_Fd9SP"
      }
    },
    {
      "cell_type": "code",
      "source": [],
      "metadata": {
        "id": "d7BVLm4ReA69"
      },
      "execution_count": 139,
      "outputs": []
    }
  ]
}